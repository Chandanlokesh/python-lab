{
  "nbformat": 4,
  "nbformat_minor": 0,
  "metadata": {
    "colab": {
      "provenance": [],
      "toc_visible": true,
      "authorship_tag": "ABX9TyNUFPMn2PC0nowoqhWQc3hv",
      "include_colab_link": true
    },
    "kernelspec": {
      "name": "python3",
      "display_name": "Python 3"
    },
    "language_info": {
      "name": "python"
    }
  },
  "cells": [
    {
      "cell_type": "markdown",
      "metadata": {
        "id": "view-in-github",
        "colab_type": "text"
      },
      "source": [
        "<a href=\"https://colab.research.google.com/github/Chandanlokesh/python-lab/blob/master/lab_prog_2.ipynb\" target=\"_parent\"><img src=\"https://colab.research.google.com/assets/colab-badge.svg\" alt=\"Open In Colab\"/></a>"
      ]
    },
    {
      "cell_type": "code",
      "execution_count": null,
      "metadata": {
        "colab": {
          "base_uri": "https://localhost:8080/"
        },
        "id": "lHJF78kkx4l5",
        "outputId": "256694db-fa33-4c4d-fc58-9f6e125f04ce"
      },
      "outputs": [
        {
          "output_type": "stream",
          "name": "stdout",
          "text": [
            "[10, 20, 30, 40, 50]\n"
          ]
        }
      ],
      "source": [
        "#  insert element to a sorted list\n",
        "a = [10,30,40,50]\n",
        "b = 20\n",
        "for i in range(len(a)):\n",
        "  if b < a[i]:\n",
        "    a.insert(i,b)\n",
        "    break\n",
        "else:\n",
        "  a.append(b)\n",
        "print(a)\n",
        "\n",
        "\n"
      ]
    }
  ]
}