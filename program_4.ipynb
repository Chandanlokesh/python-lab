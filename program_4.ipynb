{
  "nbformat": 4,
  "nbformat_minor": 0,
  "metadata": {
    "colab": {
      "provenance": [],
      "authorship_tag": "ABX9TyNARObUpxba7pM5ABfXYAqm",
      "include_colab_link": true
    },
    "kernelspec": {
      "name": "python3",
      "display_name": "Python 3"
    },
    "language_info": {
      "name": "python"
    }
  },
  "cells": [
    {
      "cell_type": "markdown",
      "metadata": {
        "id": "view-in-github",
        "colab_type": "text"
      },
      "source": [
        "<a href=\"https://colab.research.google.com/github/Chandanlokesh/python-lab/blob/master/program_4.ipynb\" target=\"_parent\"><img src=\"https://colab.research.google.com/assets/colab-badge.svg\" alt=\"Open In Colab\"/></a>"
      ]
    },
    {
      "cell_type": "code",
      "execution_count": 2,
      "metadata": {
        "colab": {
          "base_uri": "https://localhost:8080/"
        },
        "id": "RXS5vJwK30uB",
        "outputId": "b7e56403-3176-4fc4-9d7f-20496681df5a"
      },
      "outputs": [
        {
          "output_type": "stream",
          "name": "stdout",
          "text": [
            "\n",
            "missing values in each cloumn \n",
            "sepal_length    0\n",
            "sepal_width     0\n",
            "petal_length    0\n",
            "petal_width     0\n",
            "species         0\n",
            "dtype: int64\n",
            "\n",
            " mean of s l 5.843624161073825\n",
            "\n",
            " standrad deviation of s w 0.43487550684611365\n",
            "\n",
            " new data \n",
            "     sepal_length  sepal_width  petal_length  petal_width    species  sarea\n",
            "0             5.1          3.5           1.4          0.2     setosa    8.6\n",
            "1             4.9          3.0           1.4          0.2     setosa    7.9\n",
            "2             4.7          3.2           1.3          0.2     setosa    7.9\n",
            "3             4.6          3.1           1.5          0.2     setosa    7.7\n",
            "4             5.0          3.6           1.4          0.2     setosa    8.6\n",
            "..            ...          ...           ...          ...        ...    ...\n",
            "145           6.7          3.0           5.2          2.3  virginica    9.7\n",
            "146           6.3          2.5           5.0          1.9  virginica    8.8\n",
            "147           6.5          3.0           5.2          2.0  virginica    9.5\n",
            "148           6.2          3.4           5.4          2.3  virginica    9.6\n",
            "149           5.9          3.0           5.1          1.8  virginica    8.9\n",
            "\n",
            "[149 rows x 6 columns]\n"
          ]
        },
        {
          "output_type": "stream",
          "name": "stderr",
          "text": [
            "<ipython-input-2-11afb1c96f13>:24: SettingWithCopyWarning: \n",
            "A value is trying to be set on a copy of a slice from a DataFrame.\n",
            "Try using .loc[row_indexer,col_indexer] = value instead\n",
            "\n",
            "See the caveats in the documentation: https://pandas.pydata.org/pandas-docs/stable/user_guide/indexing.html#returning-a-view-versus-a-copy\n",
            "  df['sarea'] = sepal_lenght+sepal_width\n"
          ]
        }
      ],
      "source": [
        "#Implement a python program to demonstrate 1) Importing Datasets 2) Cleaning the Data 3) Data frame manipulation using Numpy\n",
        "\n",
        "import pandas as pd\n",
        "import numpy as np\n",
        "\n",
        "url = \"https://raw.githubusercontent.com/mwaskom/seaborn-data/master/iris.csv\"\n",
        "df = pd.read_csv(url)\n",
        "\n",
        "print('\\nmissing values in each cloumn ')\n",
        "print(df.isnull().sum())\n",
        "\n",
        "df = df.dropna()\n",
        "df = df.drop_duplicates()\n",
        "\n",
        "sepal_lenght = df['sepal_length'].to_numpy()\n",
        "sepal_width = df['sepal_width'].to_numpy()\n",
        "\n",
        "mean_s_l = np.mean(sepal_lenght)\n",
        "std_s_w = np.std(sepal_width)\n",
        "\n",
        "print(f'\\n mean of s l {mean_s_l}')\n",
        "print(f'\\n standrad deviation of s w {std_s_w}')\n",
        "\n",
        "df['sarea'] = sepal_lenght+sepal_width\n",
        "\n",
        "print('\\n new data ')\n",
        "print(df)\n"
      ]
    }
  ]
}