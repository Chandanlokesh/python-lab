{
  "nbformat": 4,
  "nbformat_minor": 0,
  "metadata": {
    "colab": {
      "provenance": [],
      "authorship_tag": "ABX9TyPMWiMD9Sz3sUFYUlckoj6u",
      "include_colab_link": true
    },
    "kernelspec": {
      "name": "python3",
      "display_name": "Python 3"
    },
    "language_info": {
      "name": "python"
    }
  },
  "cells": [
    {
      "cell_type": "markdown",
      "metadata": {
        "id": "view-in-github",
        "colab_type": "text"
      },
      "source": [
        "<a href=\"https://colab.research.google.com/github/Chandanlokesh/python-lab/blob/master/prog2.ipynb\" target=\"_parent\"><img src=\"https://colab.research.google.com/assets/colab-badge.svg\" alt=\"Open In Colab\"/></a>"
      ]
    },
    {
      "cell_type": "code",
      "execution_count": 5,
      "metadata": {
        "colab": {
          "base_uri": "https://localhost:8080/"
        },
        "id": "orjGutlcaN5l",
        "outputId": "04f91726-474a-4bc1-b9e2-54ae89058186"
      },
      "outputs": [
        {
          "output_type": "stream",
          "name": "stdout",
          "text": [
            "Enter size: 5\n",
            "Enter element: 10\n",
            "Enter element: 20\n",
            "Enter element: 40\n",
            "Enter element: 50\n",
            "Enter element: 99\n",
            "Enter element to insert: 30\n",
            "Final sorted list: [10, 20, 30, 40, 50, 99]\n"
          ]
        }
      ],
      "source": [
        "arr = []\n",
        "\n",
        "# Input list size and elements\n",
        "size = int(input(\"Enter size: \"))\n",
        "for i in range(size):\n",
        "    num = int(input(\"Enter element: \"))\n",
        "    arr.append(num)\n",
        "\n",
        "arr.sort()  # sort the list\n",
        "\n",
        "# Input element to insert\n",
        "insert_ele = int(input(\"Enter element to insert: \"))\n",
        "\n",
        "# Find position and insert\n",
        "for i in range(len(arr)):\n",
        "    if insert_ele < arr[i]:\n",
        "        arr.insert(i, insert_ele)\n",
        "        break\n",
        "else:\n",
        "    arr.append(insert_ele)  # if it's the largest\n",
        "\n",
        "print(\"Final sorted list:\", arr)\n"
      ]
    },
    {
      "cell_type": "code",
      "source": [],
      "metadata": {
        "colab": {
          "base_uri": "https://localhost:8080/"
        },
        "id": "ZSuF-xNWfU5z",
        "outputId": "dde85507-7813-4d28-9312-aa0f9059c140"
      },
      "execution_count": 4,
      "outputs": [
        {
          "output_type": "stream",
          "name": "stdout",
          "text": [
            "4\n"
          ]
        }
      ]
    }
  ]
}