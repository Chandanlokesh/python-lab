{
  "nbformat": 4,
  "nbformat_minor": 0,
  "metadata": {
    "colab": {
      "provenance": [],
      "authorship_tag": "ABX9TyPYFvCzcQ0t9Y7BL/C6mlTR",
      "include_colab_link": true
    },
    "kernelspec": {
      "name": "python3",
      "display_name": "Python 3"
    },
    "language_info": {
      "name": "python"
    }
  },
  "cells": [
    {
      "cell_type": "markdown",
      "metadata": {
        "id": "view-in-github",
        "colab_type": "text"
      },
      "source": [
        "<a href=\"https://colab.research.google.com/github/Chandanlokesh/python-lab/blob/master/prog8.ipynb\" target=\"_parent\"><img src=\"https://colab.research.google.com/assets/colab-badge.svg\" alt=\"Open In Colab\"/></a>"
      ]
    },
    {
      "cell_type": "code",
      "execution_count": 6,
      "metadata": {
        "colab": {
          "base_uri": "https://localhost:8080/"
        },
        "id": "91_KHJ0rAAqr",
        "outputId": "34549ab0-8b4c-4070-c3cd-4503d5bb5d80"
      },
      "outputs": [
        {
          "output_type": "stream",
          "name": "stdout",
          "text": [
            "[[54.88135039]\n",
            " [71.51893664]\n",
            " [60.27633761]\n",
            " [54.4883183 ]\n",
            " [42.36547993]\n",
            " [64.58941131]\n",
            " [43.75872113]\n",
            " [89.17730008]\n",
            " [96.36627605]\n",
            " [38.34415188]]\n",
            "[[110.90674436]\n",
            " [145.49214678]\n",
            " [122.31371294]\n",
            " [110.09831162]\n",
            " [ 86.1748231 ]\n",
            " [130.51249694]\n",
            " [ 90.01152133]\n",
            " [179.14944189]\n",
            " [194.0456198 ]\n",
            " [ 76.83420803]]\n",
            "Coefficients: [[2.00241082]]\n",
            "Intercept: [1.22818619]\n",
            "Mean Squared Error: 0.08596142598057843\n",
            "R-squared: 0.9999331750179592\n",
            "Predicted y for X=5: [[11.24024029]]\n"
          ]
        }
      ],
      "source": [
        "#write a python program to demonstrate the generation of lineat regression models\n",
        "\n",
        "import numpy as np\n",
        "from sklearn.linear_model import LinearRegression\n",
        "from sklearn.model_selection import train_test_split\n",
        "from sklearn.metrics import mean_squared_error, r2_score\n",
        "\n",
        "\n",
        "# Generate some random data for demonstration\n",
        "np.random.seed(0)\n",
        "X = np.random.rand(10, 1) * 100  # Independent variable (features)\n",
        "y = 2 * X + 1 + np.random.randn(10, 1)  # Dependent variable (target) with noise\n",
        "print(X)\n",
        "print(y)\n",
        "# Split the data into training and testing sets\n",
        "X_train, X_test, y_train, y_test = train_test_split(X, y, test_size=0.2, random_state=0)\n",
        "\n",
        "\n",
        "# Create a Linear Regression model\n",
        "model = LinearRegression()\n",
        "\n",
        "\n",
        "# Train the model using the training data\n",
        "model.fit(X_train, y_train)\n",
        "\n",
        "\n",
        "# Make predictions on the testing data\n",
        "y_pred = model.predict(X_test)\n",
        "\n",
        "\n",
        "# Evaluate the model\n",
        "mse = mean_squared_error(y_test, y_pred)\n",
        "r2 = r2_score(y_test, y_pred)\n",
        "\n",
        "\n",
        "# Print the model's coefficients and performance metrics\n",
        "print(\"Coefficients:\", model.coef_)\n",
        "print(\"Intercept:\", model.intercept_)\n",
        "print(\"Mean Squared Error:\", mse)\n",
        "print(\"R-squared:\", r2)\n",
        "\n",
        "\n",
        "# You can now use the trained model to make predictions on new data\n",
        "# For example, to predict the value of y for a new X value of 5:\n",
        "new_X = np.array([[5]])\n",
        "predicted_y = model.predict(new_X)\n",
        "print(\"Predicted y for X=5:\", predicted_y)\n"
      ]
    }
  ]
}