{
  "nbformat": 4,
  "nbformat_minor": 0,
  "metadata": {
    "colab": {
      "provenance": [],
      "toc_visible": true,
      "authorship_tag": "ABX9TyPIn3kWBcAiB0/gfm99b734",
      "include_colab_link": true
    },
    "kernelspec": {
      "name": "python3",
      "display_name": "Python 3"
    },
    "language_info": {
      "name": "python"
    }
  },
  "cells": [
    {
      "cell_type": "markdown",
      "metadata": {
        "id": "view-in-github",
        "colab_type": "text"
      },
      "source": [
        "<a href=\"https://colab.research.google.com/github/Chandanlokesh/python-lab/blob/master/lab_prog_1.ipynb\" target=\"_parent\"><img src=\"https://colab.research.google.com/assets/colab-badge.svg\" alt=\"Open In Colab\"/></a>"
      ]
    },
    {
      "cell_type": "code",
      "execution_count": 7,
      "metadata": {
        "colab": {
          "base_uri": "https://localhost:8080/"
        },
        "id": "lHJF78kkx4l5",
        "outputId": "57bb2758-d3c1-42c1-e4ae-eae08e3af7be"
      },
      "outputs": [
        {
          "output_type": "stream",
          "name": "stdout",
          "text": [
            "enter the size of the array4\n",
            "enter the element10\n",
            "enter the element22\n",
            "enter the element33\n",
            "enter the element44\n",
            "enter the target number22\n",
            "the element found at  1\n"
          ]
        }
      ],
      "source": [
        "# linear search\n",
        "\n",
        "def ls(target,arr):\n",
        "  for i in range(len(arr)):\n",
        "    if arr[i]==target:\n",
        "      return i\n",
        "  return -1\n",
        "\n",
        "arr = []\n",
        "arr_size = int(input('enter the size of the array'))\n",
        "for i in range(0,arr_size):\n",
        "  ele = int(input('enter the element'))\n",
        "  arr.append(ele)\n",
        "target = int(input('enter the target number'))\n",
        "\n",
        "result = ls(target,arr)\n",
        "if result==-1:\n",
        "  print('the element is not found')\n",
        "else:\n",
        "  print('the element found at ',result)\n"
      ]
    }
  ]
}