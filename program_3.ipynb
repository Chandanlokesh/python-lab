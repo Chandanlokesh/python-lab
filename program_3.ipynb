{
  "nbformat": 4,
  "nbformat_minor": 0,
  "metadata": {
    "colab": {
      "provenance": [],
      "authorship_tag": "ABX9TyNUxmq09PgkCxCmo11M4Y7E",
      "include_colab_link": true
    },
    "kernelspec": {
      "name": "python3",
      "display_name": "Python 3"
    },
    "language_info": {
      "name": "python"
    }
  },
  "cells": [
    {
      "cell_type": "markdown",
      "metadata": {
        "id": "view-in-github",
        "colab_type": "text"
      },
      "source": [
        "<a href=\"https://colab.research.google.com/github/Chandanlokesh/python-lab/blob/master/program_3.ipynb\" target=\"_parent\"><img src=\"https://colab.research.google.com/assets/colab-badge.svg\" alt=\"Open In Colab\"/></a>"
      ]
    },
    {
      "cell_type": "code",
      "execution_count": 1,
      "metadata": {
        "colab": {
          "base_uri": "https://localhost:8080/"
        },
        "id": "RXS5vJwK30uB",
        "outputId": "2971bfa6-19db-419f-f23f-111bf13cefd4"
      },
      "outputs": [
        {
          "output_type": "stream",
          "name": "stdout",
          "text": [
            "Buddy says Woof!\n",
            "Charlie says Woof!\n",
            "Total age of both dogs: 7\n"
          ]
        }
      ],
      "source": [
        "# Parent class\n",
        "class Pet:\n",
        "    def __init__(self, name):\n",
        "        self.__name = name   # Encapsulation: private variable\n",
        "\n",
        "    def get_name(self):      # Getter method\n",
        "        return self.__name\n",
        "\n",
        "# Child class\n",
        "class Dog(Pet):\n",
        "    def __init__(self, name, age):\n",
        "        super().__init__(name)  # Inheriting from Pet\n",
        "        self.age = age\n",
        "\n",
        "    # Operator overloading: add two dogs' ages\n",
        "    def __add__(self, other):\n",
        "        return self.age + other.age\n",
        "\n",
        "    def speak(self):\n",
        "        print(f\"{self.get_name()} says Woof!\")\n",
        "\n",
        "# Create 2 Dog objects\n",
        "dog1 = Dog(\"Buddy\", 3)\n",
        "dog2 = Dog(\"Charlie\", 4)\n",
        "\n",
        "dog1.speak()\n",
        "dog2.speak()\n",
        "\n",
        "# Adding two Dog objects (Overloading +)\n",
        "total_age = dog1 + dog2\n",
        "print(\"Total age of both dogs:\", total_age)\n"
      ]
    }
  ]
}